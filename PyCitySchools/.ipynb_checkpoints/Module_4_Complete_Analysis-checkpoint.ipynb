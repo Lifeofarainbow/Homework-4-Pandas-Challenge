{
 "cells": [
  {
   "cell_type": "markdown",
   "id": "11d273a4",
   "metadata": {},
   "source": [
    "# Analysis\n",
    "### "
   ]
  },
  {
   "cell_type": "code",
   "execution_count": 10,
   "id": "0431ade1",
   "metadata": {},
   "outputs": [
    {
     "data": {
      "text/html": [
       "<div>\n",
       "<style scoped>\n",
       "    .dataframe tbody tr th:only-of-type {\n",
       "        vertical-align: middle;\n",
       "    }\n",
       "\n",
       "    .dataframe tbody tr th {\n",
       "        vertical-align: top;\n",
       "    }\n",
       "\n",
       "    .dataframe thead th {\n",
       "        text-align: right;\n",
       "    }\n",
       "</style>\n",
       "<table border=\"1\" class=\"dataframe\">\n",
       "  <thead>\n",
       "    <tr style=\"text-align: right;\">\n",
       "      <th></th>\n",
       "      <th>Student ID</th>\n",
       "      <th>student_name</th>\n",
       "      <th>gender</th>\n",
       "      <th>grade</th>\n",
       "      <th>school_name</th>\n",
       "      <th>reading_score</th>\n",
       "      <th>math_score</th>\n",
       "      <th>School ID</th>\n",
       "      <th>type</th>\n",
       "      <th>size</th>\n",
       "      <th>budget</th>\n",
       "    </tr>\n",
       "  </thead>\n",
       "  <tbody>\n",
       "    <tr>\n",
       "      <th>0</th>\n",
       "      <td>0</td>\n",
       "      <td>Paul Bradley</td>\n",
       "      <td>M</td>\n",
       "      <td>9th</td>\n",
       "      <td>Huang High School</td>\n",
       "      <td>66</td>\n",
       "      <td>79</td>\n",
       "      <td>0</td>\n",
       "      <td>District</td>\n",
       "      <td>2917</td>\n",
       "      <td>1910635</td>\n",
       "    </tr>\n",
       "    <tr>\n",
       "      <th>1</th>\n",
       "      <td>1</td>\n",
       "      <td>Victor Smith</td>\n",
       "      <td>M</td>\n",
       "      <td>12th</td>\n",
       "      <td>Huang High School</td>\n",
       "      <td>94</td>\n",
       "      <td>61</td>\n",
       "      <td>0</td>\n",
       "      <td>District</td>\n",
       "      <td>2917</td>\n",
       "      <td>1910635</td>\n",
       "    </tr>\n",
       "    <tr>\n",
       "      <th>2</th>\n",
       "      <td>2</td>\n",
       "      <td>Kevin Rodriguez</td>\n",
       "      <td>M</td>\n",
       "      <td>12th</td>\n",
       "      <td>Huang High School</td>\n",
       "      <td>90</td>\n",
       "      <td>60</td>\n",
       "      <td>0</td>\n",
       "      <td>District</td>\n",
       "      <td>2917</td>\n",
       "      <td>1910635</td>\n",
       "    </tr>\n",
       "    <tr>\n",
       "      <th>3</th>\n",
       "      <td>3</td>\n",
       "      <td>Dr. Richard Scott</td>\n",
       "      <td>M</td>\n",
       "      <td>12th</td>\n",
       "      <td>Huang High School</td>\n",
       "      <td>67</td>\n",
       "      <td>58</td>\n",
       "      <td>0</td>\n",
       "      <td>District</td>\n",
       "      <td>2917</td>\n",
       "      <td>1910635</td>\n",
       "    </tr>\n",
       "    <tr>\n",
       "      <th>4</th>\n",
       "      <td>4</td>\n",
       "      <td>Bonnie Ray</td>\n",
       "      <td>F</td>\n",
       "      <td>9th</td>\n",
       "      <td>Huang High School</td>\n",
       "      <td>97</td>\n",
       "      <td>84</td>\n",
       "      <td>0</td>\n",
       "      <td>District</td>\n",
       "      <td>2917</td>\n",
       "      <td>1910635</td>\n",
       "    </tr>\n",
       "  </tbody>\n",
       "</table>\n",
       "</div>"
      ],
      "text/plain": [
       "   Student ID       student_name gender grade        school_name  \\\n",
       "0           0       Paul Bradley      M   9th  Huang High School   \n",
       "1           1       Victor Smith      M  12th  Huang High School   \n",
       "2           2    Kevin Rodriguez      M  12th  Huang High School   \n",
       "3           3  Dr. Richard Scott      M  12th  Huang High School   \n",
       "4           4         Bonnie Ray      F   9th  Huang High School   \n",
       "\n",
       "   reading_score  math_score  School ID      type  size   budget  \n",
       "0             66          79          0  District  2917  1910635  \n",
       "1             94          61          0  District  2917  1910635  \n",
       "2             90          60          0  District  2917  1910635  \n",
       "3             67          58          0  District  2917  1910635  \n",
       "4             97          84          0  District  2917  1910635  "
      ]
     },
     "execution_count": 10,
     "metadata": {},
     "output_type": "execute_result"
    }
   ],
   "source": [
    "# Create a reference to the CSV and import it into a Pandas DataFrame\n",
    "import pandas as pd\n",
    "from pathlib import Path\n",
    "\n",
    "schoolspath = Path(\"Resources/schools_complete.csv\")\n",
    "studentspath = Path(\"Resources/students_complete.csv\")\n",
    "\n",
    "#Assign a dataframe for each set\n",
    "schools_info_df = pd.read_csv(schoolspath)\n",
    "students_info_df = pd.read_csv(studentspath)\n",
    "\n",
    "# Merge the two dataframes \n",
    "schools_info_complete = pd.merge(students_info_df, schools_info_df, how=\"left\", on=[\"school_name\", \"school_name\"])\n",
    "schools_info_complete.head()"
   ]
  },
  {
   "cell_type": "markdown",
   "id": "2feee59d",
   "metadata": {},
   "source": [
    "# District Summary"
   ]
  },
  {
   "cell_type": "code",
   "execution_count": 11,
   "id": "d394b2e8",
   "metadata": {},
   "outputs": [
    {
     "data": {
      "text/plain": [
       "15"
      ]
     },
     "execution_count": 11,
     "metadata": {},
     "output_type": "execute_result"
    }
   ],
   "source": [
    "# Calculate the number of schools\n",
    "school_count = len(schools_info_df[\"school_name\"].unique())\n",
    "school_count"
   ]
  },
  {
   "cell_type": "code",
   "execution_count": 12,
   "id": "c20f0301",
   "metadata": {},
   "outputs": [
    {
     "data": {
      "text/plain": [
       "32715"
      ]
     },
     "execution_count": 12,
     "metadata": {},
     "output_type": "execute_result"
    }
   ],
   "source": [
    "# Calculate the number of students\n",
    "student_count = len(students_info_df[\"student_name\"].unique())\n",
    "student_count"
   ]
  },
  {
   "cell_type": "code",
   "execution_count": 13,
   "id": "33f33c15",
   "metadata": {},
   "outputs": [
    {
     "data": {
      "text/plain": [
       "24649428"
      ]
     },
     "execution_count": 13,
     "metadata": {},
     "output_type": "execute_result"
    }
   ],
   "source": [
    "# Calculate the budget\n",
    "schools_total_budget = schools_info_df[\"budget\"].sum()\n",
    "schools_total_budget"
   ]
  },
  {
   "cell_type": "code",
   "execution_count": 14,
   "id": "32cfee4a",
   "metadata": {},
   "outputs": [
    {
     "data": {
      "text/plain": [
       "78.98537145774827"
      ]
     },
     "execution_count": 14,
     "metadata": {},
     "output_type": "execute_result"
    }
   ],
   "source": [
    "# Calculate the average (mean) math score\n",
    "average_math = students_info_df[\"math_score\"].mean()\n",
    "average_math"
   ]
  },
  {
   "cell_type": "code",
   "execution_count": 15,
   "id": "4096a2fa",
   "metadata": {},
   "outputs": [
    {
     "data": {
      "text/plain": [
       "81.87784018381414"
      ]
     },
     "execution_count": 15,
     "metadata": {},
     "output_type": "execute_result"
    }
   ],
   "source": [
    "# Calculate the average (mean) reading score\n",
    "average_reading = students_info_df[\"reading_score\"].mean()\n",
    "average_reading"
   ]
  },
  {
   "cell_type": "code",
   "execution_count": 16,
   "id": "55d33b6b",
   "metadata": {},
   "outputs": [
    {
     "data": {
      "text/plain": [
       "89.77533241632278"
      ]
     },
     "execution_count": 16,
     "metadata": {},
     "output_type": "execute_result"
    }
   ],
   "source": [
    "# Use the following to calculate the percentage of students who passed math (math scores greather than or equal to 70)\n",
    "passing_math_count = students_info_df[(students_info_df[\"math_score\"] >= 70)].count()[\"student_name\"]\n",
    "passing_math_percentage = passing_math_count / float(student_count) * 100\n",
    "passing_math_percentage"
   ]
  },
  {
   "cell_type": "code",
   "execution_count": 17,
   "id": "e273b2be",
   "metadata": {},
   "outputs": [
    {
     "data": {
      "text/plain": [
       "102.73574812777014"
      ]
     },
     "execution_count": 17,
     "metadata": {},
     "output_type": "execute_result"
    }
   ],
   "source": [
    "# Calculate the percentage of students who passed reading (hint: look at how the math percentage was calculated)  \n",
    "passing_reading_count = students_info_df[(students_info_df[\"reading_score\"] >= 70)].count()[\"student_name\"]\n",
    "passing_reading_percentage = passing_reading_count / float(student_count) * 100\n",
    "passing_reading_percentage"
   ]
  },
  {
   "cell_type": "code",
   "execution_count": 18,
   "id": "29d65e56",
   "metadata": {},
   "outputs": [
    {
     "data": {
      "text/plain": [
       "78.031484028733"
      ]
     },
     "execution_count": 18,
     "metadata": {},
     "output_type": "execute_result"
    }
   ],
   "source": [
    "# Use the following to calculate the percentage of students that passed math and reading\n",
    "passing_math_reading_count = students_info_df[\n",
    "    (students_info_df[\"math_score\"] >= 70) & (students_info_df[\"reading_score\"] >= 70)\n",
    "].count()[\"student_name\"]\n",
    "overall_passing_rate = passing_math_reading_count /  float(student_count) * 100\n",
    "overall_passing_rate"
   ]
  },
  {
   "cell_type": "code",
   "execution_count": 30,
   "id": "458b8ffc",
   "metadata": {},
   "outputs": [
    {
     "data": {
      "text/html": [
       "<div>\n",
       "<style scoped>\n",
       "    .dataframe tbody tr th:only-of-type {\n",
       "        vertical-align: middle;\n",
       "    }\n",
       "\n",
       "    .dataframe tbody tr th {\n",
       "        vertical-align: top;\n",
       "    }\n",
       "\n",
       "    .dataframe thead th {\n",
       "        text-align: right;\n",
       "    }\n",
       "</style>\n",
       "<table border=\"1\" class=\"dataframe\">\n",
       "  <thead>\n",
       "    <tr style=\"text-align: right;\">\n",
       "      <th></th>\n",
       "      <th>Total Schools</th>\n",
       "      <th>Total Students</th>\n",
       "      <th>Total Budget</th>\n",
       "      <th>Average Math Score</th>\n",
       "      <th>Average Reading Score</th>\n",
       "      <th>% Passing Math</th>\n",
       "      <th>% Passing Reading</th>\n",
       "      <th>% Overall Passing</th>\n",
       "    </tr>\n",
       "  </thead>\n",
       "  <tbody>\n",
       "    <tr>\n",
       "      <th>0</th>\n",
       "      <td>15</td>\n",
       "      <td>32,715</td>\n",
       "      <td>$24,649,428.00</td>\n",
       "      <td>78.985371</td>\n",
       "      <td>81.87784</td>\n",
       "      <td>89.775332</td>\n",
       "      <td>102.735748</td>\n",
       "      <td>78.031484</td>\n",
       "    </tr>\n",
       "  </tbody>\n",
       "</table>\n",
       "</div>"
      ],
      "text/plain": [
       "   Total Schools Total Students    Total Budget  Average Math Score  \\\n",
       "0             15         32,715  $24,649,428.00           78.985371   \n",
       "\n",
       "   Average Reading Score  % Passing Math  % Passing Reading  % Overall Passing  \n",
       "0               81.87784       89.775332         102.735748          78.031484  "
      ]
     },
     "execution_count": 30,
     "metadata": {},
     "output_type": "execute_result"
    }
   ],
   "source": [
    "# Create a high-level snapshot of the district's key metrics in a DataFrame\n",
    "district_summary = pd.DataFrame({\"Total Schools\": school_count, \"Total Students\": student_count, \n",
    "                                 \"Total Budget\": schools_total_budget, \"Average Math Score\": average_math, \n",
    "                                 \"Average Reading Score\": average_reading, \"% Passing Math\": passing_math_percentage, \n",
    "                                 \"% Passing Reading\": passing_reading_percentage, \"% Overall Passing\": overall_passing_rate}, index = [0])\n",
    "\n",
    "# Formatting\n",
    "district_summary[\"Total Students\"] = district_summary[\"Total Students\"].map(\"{:,}\".format)\n",
    "district_summary[\"Total Budget\"] = district_summary[\"Total Budget\"].map(\"${:,.2f}\".format)\n",
    "\n",
    "# Display the DataFrame\n",
    "district_summary"
   ]
  },
  {
   "cell_type": "markdown",
   "id": "b9cae8eb",
   "metadata": {},
   "source": [
    "# School Summary"
   ]
  },
  {
   "cell_type": "code",
   "execution_count": 56,
   "id": "34cbff07",
   "metadata": {},
   "outputs": [
    {
     "name": "stderr",
     "output_type": "stream",
     "text": [
      "C:\\Users\\lifeo\\AppData\\Local\\Temp\\ipykernel_18696\\2810584237.py:3: FutureWarning: The default value of numeric_only in DataFrameGroupBy.sum is deprecated. In a future version, numeric_only will default to False. Either specify numeric_only or select only columns which should be valid for the function.\n",
      "  school_types_df = school_types.sum()\n"
     ]
    },
    {
     "data": {
      "text/html": [
       "<div>\n",
       "<style scoped>\n",
       "    .dataframe tbody tr th:only-of-type {\n",
       "        vertical-align: middle;\n",
       "    }\n",
       "\n",
       "    .dataframe tbody tr th {\n",
       "        vertical-align: top;\n",
       "    }\n",
       "\n",
       "    .dataframe thead th {\n",
       "        text-align: right;\n",
       "    }\n",
       "</style>\n",
       "<table border=\"1\" class=\"dataframe\">\n",
       "  <thead>\n",
       "    <tr style=\"text-align: right;\">\n",
       "      <th></th>\n",
       "      <th></th>\n",
       "      <th>Student ID</th>\n",
       "      <th>reading_score</th>\n",
       "      <th>math_score</th>\n",
       "      <th>School ID</th>\n",
       "      <th>size</th>\n",
       "      <th>budget</th>\n",
       "    </tr>\n",
       "    <tr>\n",
       "      <th>school_name</th>\n",
       "      <th>type</th>\n",
       "      <th></th>\n",
       "      <th></th>\n",
       "      <th></th>\n",
       "      <th></th>\n",
       "      <th></th>\n",
       "      <th></th>\n",
       "    </tr>\n",
       "  </thead>\n",
       "  <tbody>\n",
       "    <tr>\n",
       "      <th>Bailey High School</th>\n",
       "      <th>District</th>\n",
       "      <td>101303896</td>\n",
       "      <td>403225</td>\n",
       "      <td>383393</td>\n",
       "      <td>34832</td>\n",
       "      <td>24760576</td>\n",
       "      <td>15549641728</td>\n",
       "    </tr>\n",
       "    <tr>\n",
       "      <th>Cabrera High School</th>\n",
       "      <th>Charter</th>\n",
       "      <td>31477307</td>\n",
       "      <td>156027</td>\n",
       "      <td>154329</td>\n",
       "      <td>11148</td>\n",
       "      <td>3452164</td>\n",
       "      <td>2009159448</td>\n",
       "    </tr>\n",
       "    <tr>\n",
       "      <th>Figueroa High School</th>\n",
       "      <th>District</th>\n",
       "      <td>12949059</td>\n",
       "      <td>239335</td>\n",
       "      <td>226223</td>\n",
       "      <td>2949</td>\n",
       "      <td>8696601</td>\n",
       "      <td>5557128039</td>\n",
       "    </tr>\n",
       "    <tr>\n",
       "      <th>Ford High School</th>\n",
       "      <th>District</th>\n",
       "      <td>99055935</td>\n",
       "      <td>221164</td>\n",
       "      <td>211184</td>\n",
       "      <td>35607</td>\n",
       "      <td>7502121</td>\n",
       "      <td>4831365924</td>\n",
       "    </tr>\n",
       "    <tr>\n",
       "      <th>Griffin High School</th>\n",
       "      <th>Charter</th>\n",
       "      <td>19077394</td>\n",
       "      <td>123043</td>\n",
       "      <td>122360</td>\n",
       "      <td>5872</td>\n",
       "      <td>2155024</td>\n",
       "      <td>1346890000</td>\n",
       "    </tr>\n",
       "    <tr>\n",
       "      <th>Hernandez High School</th>\n",
       "      <th>District</th>\n",
       "      <td>46090440</td>\n",
       "      <td>375131</td>\n",
       "      <td>358238</td>\n",
       "      <td>13905</td>\n",
       "      <td>21483225</td>\n",
       "      <td>14007062700</td>\n",
       "    </tr>\n",
       "    <tr>\n",
       "      <th>Holden High School</th>\n",
       "      <th>Charter</th>\n",
       "      <td>9846620</td>\n",
       "      <td>35789</td>\n",
       "      <td>35784</td>\n",
       "      <td>3416</td>\n",
       "      <td>182329</td>\n",
       "      <td>105933149</td>\n",
       "    </tr>\n",
       "    <tr>\n",
       "      <th>Huang High School</th>\n",
       "      <th>District</th>\n",
       "      <td>4252986</td>\n",
       "      <td>236810</td>\n",
       "      <td>223528</td>\n",
       "      <td>0</td>\n",
       "      <td>8508889</td>\n",
       "      <td>5573322295</td>\n",
       "    </tr>\n",
       "    <tr>\n",
       "      <th>Johnson High School</th>\n",
       "      <th>District</th>\n",
       "      <td>154327815</td>\n",
       "      <td>385481</td>\n",
       "      <td>366942</td>\n",
       "      <td>57132</td>\n",
       "      <td>22667121</td>\n",
       "      <td>14733628650</td>\n",
       "    </tr>\n",
       "    <tr>\n",
       "      <th>Pena High School</th>\n",
       "      <th>Charter</th>\n",
       "      <td>22851829</td>\n",
       "      <td>80851</td>\n",
       "      <td>80654</td>\n",
       "      <td>8658</td>\n",
       "      <td>925444</td>\n",
       "      <td>563595396</td>\n",
       "    </tr>\n",
       "    <tr>\n",
       "      <th>Rodriguez High School</th>\n",
       "      <th>District</th>\n",
       "      <td>112111965</td>\n",
       "      <td>322898</td>\n",
       "      <td>307294</td>\n",
       "      <td>43989</td>\n",
       "      <td>15992001</td>\n",
       "      <td>10186904637</td>\n",
       "    </tr>\n",
       "    <tr>\n",
       "      <th>Shelton High School</th>\n",
       "      <th>Charter</th>\n",
       "      <td>11879706</td>\n",
       "      <td>147441</td>\n",
       "      <td>146796</td>\n",
       "      <td>3522</td>\n",
       "      <td>3101121</td>\n",
       "      <td>1860672600</td>\n",
       "    </tr>\n",
       "    <tr>\n",
       "      <th>Thomas High School</th>\n",
       "      <th>Charter</th>\n",
       "      <td>62705520</td>\n",
       "      <td>137093</td>\n",
       "      <td>136389</td>\n",
       "      <td>22890</td>\n",
       "      <td>2673225</td>\n",
       "      <td>1705517550</td>\n",
       "    </tr>\n",
       "    <tr>\n",
       "      <th>Wilson High School</th>\n",
       "      <th>Charter</th>\n",
       "      <td>33950493</td>\n",
       "      <td>191748</td>\n",
       "      <td>190115</td>\n",
       "      <td>11415</td>\n",
       "      <td>5212089</td>\n",
       "      <td>3012587442</td>\n",
       "    </tr>\n",
       "    <tr>\n",
       "      <th>Wright High School</th>\n",
       "      <th>Charter</th>\n",
       "      <td>45243900</td>\n",
       "      <td>151119</td>\n",
       "      <td>150628</td>\n",
       "      <td>18000</td>\n",
       "      <td>3240000</td>\n",
       "      <td>1888920000</td>\n",
       "    </tr>\n",
       "  </tbody>\n",
       "</table>\n",
       "</div>"
      ],
      "text/plain": [
       "                                Student ID  reading_score  math_score  \\\n",
       "school_name           type                                              \n",
       "Bailey High School    District   101303896         403225      383393   \n",
       "Cabrera High School   Charter     31477307         156027      154329   \n",
       "Figueroa High School  District    12949059         239335      226223   \n",
       "Ford High School      District    99055935         221164      211184   \n",
       "Griffin High School   Charter     19077394         123043      122360   \n",
       "Hernandez High School District    46090440         375131      358238   \n",
       "Holden High School    Charter      9846620          35789       35784   \n",
       "Huang High School     District     4252986         236810      223528   \n",
       "Johnson High School   District   154327815         385481      366942   \n",
       "Pena High School      Charter     22851829          80851       80654   \n",
       "Rodriguez High School District   112111965         322898      307294   \n",
       "Shelton High School   Charter     11879706         147441      146796   \n",
       "Thomas High School    Charter     62705520         137093      136389   \n",
       "Wilson High School    Charter     33950493         191748      190115   \n",
       "Wright High School    Charter     45243900         151119      150628   \n",
       "\n",
       "                                School ID      size       budget  \n",
       "school_name           type                                        \n",
       "Bailey High School    District      34832  24760576  15549641728  \n",
       "Cabrera High School   Charter       11148   3452164   2009159448  \n",
       "Figueroa High School  District       2949   8696601   5557128039  \n",
       "Ford High School      District      35607   7502121   4831365924  \n",
       "Griffin High School   Charter        5872   2155024   1346890000  \n",
       "Hernandez High School District      13905  21483225  14007062700  \n",
       "Holden High School    Charter        3416    182329    105933149  \n",
       "Huang High School     District          0   8508889   5573322295  \n",
       "Johnson High School   District      57132  22667121  14733628650  \n",
       "Pena High School      Charter        8658    925444    563595396  \n",
       "Rodriguez High School District      43989  15992001  10186904637  \n",
       "Shelton High School   Charter        3522   3101121   1860672600  \n",
       "Thomas High School    Charter       22890   2673225   1705517550  \n",
       "Wilson High School    Charter       11415   5212089   3012587442  \n",
       "Wright High School    Charter       18000   3240000   1888920000  "
      ]
     },
     "execution_count": 56,
     "metadata": {},
     "output_type": "execute_result"
    }
   ],
   "source": [
    "# Use the code provided to select all of the school types\n",
    "school_types = schools_info_complete.groupby([\"school_name\", \"type\"])\n",
    "school_types_df = school_types.sum()\n",
    "school_types_df"
   ]
  },
  {
   "cell_type": "code",
   "execution_count": 78,
   "id": "7f5d7e29",
   "metadata": {},
   "outputs": [
    {
     "name": "stderr",
     "output_type": "stream",
     "text": [
      "C:\\Users\\lifeo\\AppData\\Local\\Temp\\ipykernel_18696\\1725048841.py:3: FutureWarning: The default value of numeric_only in DataFrameGroupBy.sum is deprecated. In a future version, numeric_only will default to False. Either specify numeric_only or select only columns which should be valid for the function.\n",
      "  per_school_counts_df = per_school_counts.sum()\n"
     ]
    },
    {
     "data": {
      "text/html": [
       "<div>\n",
       "<style scoped>\n",
       "    .dataframe tbody tr th:only-of-type {\n",
       "        vertical-align: middle;\n",
       "    }\n",
       "\n",
       "    .dataframe tbody tr th {\n",
       "        vertical-align: top;\n",
       "    }\n",
       "\n",
       "    .dataframe thead th {\n",
       "        text-align: right;\n",
       "    }\n",
       "</style>\n",
       "<table border=\"1\" class=\"dataframe\">\n",
       "  <thead>\n",
       "    <tr style=\"text-align: right;\">\n",
       "      <th></th>\n",
       "      <th></th>\n",
       "      <th>Student ID</th>\n",
       "      <th>reading_score</th>\n",
       "      <th>math_score</th>\n",
       "      <th>School ID</th>\n",
       "      <th>budget</th>\n",
       "    </tr>\n",
       "    <tr>\n",
       "      <th>school_name</th>\n",
       "      <th>size</th>\n",
       "      <th></th>\n",
       "      <th></th>\n",
       "      <th></th>\n",
       "      <th></th>\n",
       "      <th></th>\n",
       "    </tr>\n",
       "  </thead>\n",
       "  <tbody>\n",
       "    <tr>\n",
       "      <th>Bailey High School</th>\n",
       "      <th>4976</th>\n",
       "      <td>101303896</td>\n",
       "      <td>403225</td>\n",
       "      <td>383393</td>\n",
       "      <td>34832</td>\n",
       "      <td>15549641728</td>\n",
       "    </tr>\n",
       "    <tr>\n",
       "      <th>Cabrera High School</th>\n",
       "      <th>1858</th>\n",
       "      <td>31477307</td>\n",
       "      <td>156027</td>\n",
       "      <td>154329</td>\n",
       "      <td>11148</td>\n",
       "      <td>2009159448</td>\n",
       "    </tr>\n",
       "    <tr>\n",
       "      <th>Figueroa High School</th>\n",
       "      <th>2949</th>\n",
       "      <td>12949059</td>\n",
       "      <td>239335</td>\n",
       "      <td>226223</td>\n",
       "      <td>2949</td>\n",
       "      <td>5557128039</td>\n",
       "    </tr>\n",
       "    <tr>\n",
       "      <th>Ford High School</th>\n",
       "      <th>2739</th>\n",
       "      <td>99055935</td>\n",
       "      <td>221164</td>\n",
       "      <td>211184</td>\n",
       "      <td>35607</td>\n",
       "      <td>4831365924</td>\n",
       "    </tr>\n",
       "    <tr>\n",
       "      <th>Griffin High School</th>\n",
       "      <th>1468</th>\n",
       "      <td>19077394</td>\n",
       "      <td>123043</td>\n",
       "      <td>122360</td>\n",
       "      <td>5872</td>\n",
       "      <td>1346890000</td>\n",
       "    </tr>\n",
       "    <tr>\n",
       "      <th>Hernandez High School</th>\n",
       "      <th>4635</th>\n",
       "      <td>46090440</td>\n",
       "      <td>375131</td>\n",
       "      <td>358238</td>\n",
       "      <td>13905</td>\n",
       "      <td>14007062700</td>\n",
       "    </tr>\n",
       "    <tr>\n",
       "      <th>Holden High School</th>\n",
       "      <th>427</th>\n",
       "      <td>9846620</td>\n",
       "      <td>35789</td>\n",
       "      <td>35784</td>\n",
       "      <td>3416</td>\n",
       "      <td>105933149</td>\n",
       "    </tr>\n",
       "    <tr>\n",
       "      <th>Huang High School</th>\n",
       "      <th>2917</th>\n",
       "      <td>4252986</td>\n",
       "      <td>236810</td>\n",
       "      <td>223528</td>\n",
       "      <td>0</td>\n",
       "      <td>5573322295</td>\n",
       "    </tr>\n",
       "    <tr>\n",
       "      <th>Johnson High School</th>\n",
       "      <th>4761</th>\n",
       "      <td>154327815</td>\n",
       "      <td>385481</td>\n",
       "      <td>366942</td>\n",
       "      <td>57132</td>\n",
       "      <td>14733628650</td>\n",
       "    </tr>\n",
       "    <tr>\n",
       "      <th>Pena High School</th>\n",
       "      <th>962</th>\n",
       "      <td>22851829</td>\n",
       "      <td>80851</td>\n",
       "      <td>80654</td>\n",
       "      <td>8658</td>\n",
       "      <td>563595396</td>\n",
       "    </tr>\n",
       "    <tr>\n",
       "      <th>Rodriguez High School</th>\n",
       "      <th>3999</th>\n",
       "      <td>112111965</td>\n",
       "      <td>322898</td>\n",
       "      <td>307294</td>\n",
       "      <td>43989</td>\n",
       "      <td>10186904637</td>\n",
       "    </tr>\n",
       "    <tr>\n",
       "      <th>Shelton High School</th>\n",
       "      <th>1761</th>\n",
       "      <td>11879706</td>\n",
       "      <td>147441</td>\n",
       "      <td>146796</td>\n",
       "      <td>3522</td>\n",
       "      <td>1860672600</td>\n",
       "    </tr>\n",
       "    <tr>\n",
       "      <th>Thomas High School</th>\n",
       "      <th>1635</th>\n",
       "      <td>62705520</td>\n",
       "      <td>137093</td>\n",
       "      <td>136389</td>\n",
       "      <td>22890</td>\n",
       "      <td>1705517550</td>\n",
       "    </tr>\n",
       "    <tr>\n",
       "      <th>Wilson High School</th>\n",
       "      <th>2283</th>\n",
       "      <td>33950493</td>\n",
       "      <td>191748</td>\n",
       "      <td>190115</td>\n",
       "      <td>11415</td>\n",
       "      <td>3012587442</td>\n",
       "    </tr>\n",
       "    <tr>\n",
       "      <th>Wright High School</th>\n",
       "      <th>1800</th>\n",
       "      <td>45243900</td>\n",
       "      <td>151119</td>\n",
       "      <td>150628</td>\n",
       "      <td>18000</td>\n",
       "      <td>1888920000</td>\n",
       "    </tr>\n",
       "  </tbody>\n",
       "</table>\n",
       "</div>"
      ],
      "text/plain": [
       "                            Student ID  reading_score  math_score  School ID  \\\n",
       "school_name           size                                                     \n",
       "Bailey High School    4976   101303896         403225      383393      34832   \n",
       "Cabrera High School   1858    31477307         156027      154329      11148   \n",
       "Figueroa High School  2949    12949059         239335      226223       2949   \n",
       "Ford High School      2739    99055935         221164      211184      35607   \n",
       "Griffin High School   1468    19077394         123043      122360       5872   \n",
       "Hernandez High School 4635    46090440         375131      358238      13905   \n",
       "Holden High School    427      9846620          35789       35784       3416   \n",
       "Huang High School     2917     4252986         236810      223528          0   \n",
       "Johnson High School   4761   154327815         385481      366942      57132   \n",
       "Pena High School      962     22851829          80851       80654       8658   \n",
       "Rodriguez High School 3999   112111965         322898      307294      43989   \n",
       "Shelton High School   1761    11879706         147441      146796       3522   \n",
       "Thomas High School    1635    62705520         137093      136389      22890   \n",
       "Wilson High School    2283    33950493         191748      190115      11415   \n",
       "Wright High School    1800    45243900         151119      150628      18000   \n",
       "\n",
       "                                 budget  \n",
       "school_name           size               \n",
       "Bailey High School    4976  15549641728  \n",
       "Cabrera High School   1858   2009159448  \n",
       "Figueroa High School  2949   5557128039  \n",
       "Ford High School      2739   4831365924  \n",
       "Griffin High School   1468   1346890000  \n",
       "Hernandez High School 4635  14007062700  \n",
       "Holden High School    427     105933149  \n",
       "Huang High School     2917   5573322295  \n",
       "Johnson High School   4761  14733628650  \n",
       "Pena High School      962     563595396  \n",
       "Rodriguez High School 3999  10186904637  \n",
       "Shelton High School   1761   1860672600  \n",
       "Thomas High School    1635   1705517550  \n",
       "Wilson High School    2283   3012587442  \n",
       "Wright High School    1800   1888920000  "
      ]
     },
     "execution_count": 78,
     "metadata": {},
     "output_type": "execute_result"
    }
   ],
   "source": [
    "# Calculate the total student count per school\n",
    "per_school_counts = schools_info_complete.groupby([\"school_name\", \"size\"])\n",
    "per_school_counts_df = per_school_counts.sum()\n",
    "per_school_counts_df"
   ]
  },
  {
   "cell_type": "code",
   "execution_count": 128,
   "id": "b301fe0d",
   "metadata": {},
   "outputs": [
    {
     "name": "stderr",
     "output_type": "stream",
     "text": [
      "C:\\Users\\lifeo\\AppData\\Local\\Temp\\ipykernel_18696\\2672175935.py:3: FutureWarning: The default value of numeric_only in DataFrameGroupBy.sum is deprecated. In a future version, numeric_only will default to False. Either specify numeric_only or select only columns which should be valid for the function.\n",
      "  per_school_budget_df = per_school_counts.sum()\n"
     ]
    }
   ],
   "source": [
    "# Calculate the total school budget and per capita spending per school\n",
    "per_school_budget = schools_info_complete.groupby([\"school_name\", \"budget\"])\n",
    "per_school_budget_df = per_school_counts.sum()\n",
    "per_school_capita = per_school_budget_df[\"budget\"].sum()/per_school_counts[\"size\"].sum()"
   ]
  },
  {
   "cell_type": "code",
   "execution_count": 129,
   "id": "d3cdd4c7",
   "metadata": {},
   "outputs": [],
   "source": [
    "# Calculate the average test scores per school\n",
    "per_school_math = schools_info_complete.groupby([\"school_name\", \"math_score\"])\n",
    "per_school_math_df = schools_info_complete[\"math_score\"].sum()/per_school_counts[\"size\"].sum()                                             \n",
    "\n",
    "\n",
    "per_school_reading = schools_info_complete.groupby([\"school_name\", \"reading_score\"])\n",
    "per_school_reading_df = schools_info_complete[\"reading_score\"].sum()/per_school_counts[\"size\"].sum() \n"
   ]
  },
  {
   "cell_type": "code",
   "execution_count": 130,
   "id": "46cff70f",
   "metadata": {},
   "outputs": [
    {
     "data": {
      "text/plain": [
       "<pandas.core.groupby.generic.DataFrameGroupBy object at 0x000001BE82E78C70>"
      ]
     },
     "execution_count": 130,
     "metadata": {},
     "output_type": "execute_result"
    }
   ],
   "source": [
    "# Calculate the number of students per school with math scores of 70 or higher\n",
    "students_passing_math = schools_info_complete[schools_info_complete['math_score'] >= 70].groupby(['school_name'])\n",
    "school_students_passing_math = students_passing_math\n",
    "schools_info_complete.groupby([\"school_name\", \"budget\"])"
   ]
  },
  {
   "cell_type": "code",
   "execution_count": 131,
   "id": "ced78437",
   "metadata": {},
   "outputs": [
    {
     "data": {
      "text/plain": [
       "<pandas.core.groupby.generic.DataFrameGroupBy object at 0x000001BE84233820>"
      ]
     },
     "execution_count": 131,
     "metadata": {},
     "output_type": "execute_result"
    }
   ],
   "source": [
    "# Calculate the number of students per school with reading scores of 70 or higher\n",
    "students_passing_reading = schools_info_complete[schools_info_complete['reading_score'] >= 70].groupby(['school_name'])\n",
    "school_students_passing_reading = students_passing_reading\n",
    "schools_info_complete.groupby([\"school_name\", \"budget\"])"
   ]
  },
  {
   "cell_type": "code",
   "execution_count": 132,
   "id": "7d9aeafe",
   "metadata": {},
   "outputs": [],
   "source": [
    "# Use the provided code to calculate the number of students per school that passed both math and reading with scores of 70 or higher\n",
    "students_passing_math_and_reading = schools_info_complete[\n",
    "    (schools_info_complete[\"reading_score\"] >= 70) & (schools_info_complete[\"math_score\"] >= 70)\n",
    "]\n",
    "school_students_passing_math_and_reading = students_passing_math_and_reading.groupby([\"school_name\"]).size()"
   ]
  },
  {
   "cell_type": "code",
   "execution_count": 136,
   "id": "3d1c5d60",
   "metadata": {},
   "outputs": [
    {
     "name": "stderr",
     "output_type": "stream",
     "text": [
      "C:\\Users\\lifeo\\AppData\\Local\\Temp\\ipykernel_18696\\2677244401.py:2: FutureWarning: The default value of numeric_only in DataFrameGroupBy.sum is deprecated. In a future version, numeric_only will default to False. Either specify numeric_only or select only columns which should be valid for the function.\n",
      "  per_school_passing_math = (school_students_passing_math).sum() / (per_school_counts_df).sum() * 100\n",
      "C:\\Users\\lifeo\\AppData\\Local\\Temp\\ipykernel_18696\\2677244401.py:3: FutureWarning: The default value of numeric_only in DataFrameGroupBy.sum is deprecated. In a future version, numeric_only will default to False. Either specify numeric_only or select only columns which should be valid for the function.\n",
      "  per_school_passing_reading = (school_students_passing_reading).sum() / (per_school_counts_df).sum() * 100\n"
     ]
    }
   ],
   "source": [
    "# Use the provided code to calculate the passing rates\n",
    "per_school_passing_math = (school_students_passing_math).sum() / (per_school_counts_df).sum() * 100\n",
    "per_school_passing_reading = (school_students_passing_reading).sum() / (per_school_counts_df).sum() * 100\n",
    "overall_passing_rate = (school_students_passing_math_and_reading).sum() / (per_school_counts_df).sum() * 100"
   ]
  },
  {
   "cell_type": "code",
   "execution_count": 141,
   "id": "e4bcb7ae",
   "metadata": {},
   "outputs": [
    {
     "ename": "NameError",
     "evalue": "name 'school_name' is not defined",
     "output_type": "error",
     "traceback": [
      "\u001b[1;31m---------------------------------------------------------------------------\u001b[0m",
      "\u001b[1;31mNameError\u001b[0m                                 Traceback (most recent call last)",
      "Cell \u001b[1;32mIn[141], line 2\u001b[0m\n\u001b[0;32m      1\u001b[0m \u001b[38;5;66;03m# Create a DataFrame called `per_school_summary` with columns for the calculations above.\u001b[39;00m\n\u001b[1;32m----> 2\u001b[0m per_school_summary \u001b[38;5;241m=\u001b[39m pd\u001b[38;5;241m.\u001b[39mDataFrame({\u001b[38;5;124m\"\u001b[39m\u001b[38;5;124mSchool Name\u001b[39m\u001b[38;5;124m\"\u001b[39m: \u001b[43mschool_name\u001b[49m,\n\u001b[0;32m      3\u001b[0m                                   \u001b[38;5;124m\"\u001b[39m\u001b[38;5;124mSchool Type\u001b[39m\u001b[38;5;124m\"\u001b[39m:school_types,\n\u001b[0;32m      4\u001b[0m                                   \u001b[38;5;124m\"\u001b[39m\u001b[38;5;124mTotal Students\u001b[39m\u001b[38;5;124m\"\u001b[39m:student_count,\n\u001b[0;32m      5\u001b[0m                                   \u001b[38;5;124m\"\u001b[39m\u001b[38;5;124mTotal School Budget\u001b[39m\u001b[38;5;124m\"\u001b[39m:school_budget,\n\u001b[0;32m      6\u001b[0m                                   \u001b[38;5;124m\"\u001b[39m\u001b[38;5;124mPer Student Budget\u001b[39m\u001b[38;5;124m\"\u001b[39m:school_per_student_budget,\n\u001b[0;32m      7\u001b[0m                                   \u001b[38;5;124m\"\u001b[39m\u001b[38;5;124mAverage Math Score\u001b[39m\u001b[38;5;124m\"\u001b[39m:school_avg_math_score,\n\u001b[0;32m      8\u001b[0m                                   \u001b[38;5;124m\"\u001b[39m\u001b[38;5;124mAverage Reading Score\u001b[39m\u001b[38;5;124m\"\u001b[39m:school_avg_reading_score,\n\u001b[0;32m      9\u001b[0m                                   \u001b[38;5;124m\"\u001b[39m\u001b[38;5;124m%\u001b[39m\u001b[38;5;124m Passing Math\u001b[39m\u001b[38;5;124m\"\u001b[39m:school_pct_passing_math,\n\u001b[0;32m     10\u001b[0m                                   \u001b[38;5;124m\"\u001b[39m\u001b[38;5;124m%\u001b[39m\u001b[38;5;124m Passing Reading\u001b[39m\u001b[38;5;124m\"\u001b[39m:school_pct_passing_reading,\n\u001b[0;32m     11\u001b[0m                                   \u001b[38;5;124m\"\u001b[39m\u001b[38;5;124mOverall Passing Rate\u001b[39m\u001b[38;5;124m\"\u001b[39m:school_overall_passing}, index \u001b[38;5;241m=\u001b[39m [\u001b[38;5;241m0\u001b[39m])\n\u001b[0;32m     13\u001b[0m \u001b[38;5;66;03m# Formatting\u001b[39;00m\n\u001b[0;32m     14\u001b[0m per_school_summary[\u001b[38;5;124m\"\u001b[39m\u001b[38;5;124mTotal School Budget\u001b[39m\u001b[38;5;124m\"\u001b[39m] \u001b[38;5;241m=\u001b[39m per_school_summary[\u001b[38;5;124m\"\u001b[39m\u001b[38;5;124mTotal School Budget\u001b[39m\u001b[38;5;124m\"\u001b[39m]\u001b[38;5;241m.\u001b[39mmap(\u001b[38;5;124m\"\u001b[39m\u001b[38;5;124m$\u001b[39m\u001b[38;5;132;01m{:,.2f}\u001b[39;00m\u001b[38;5;124m\"\u001b[39m\u001b[38;5;241m.\u001b[39mformat)\n",
      "\u001b[1;31mNameError\u001b[0m: name 'school_name' is not defined"
     ]
    }
   ],
   "source": [
    "# Create a DataFrame called `per_school_summary` with columns for the calculations above.\n",
    "per_school_summary = pd.DataFrame({\"School Name\": school_name,\n",
    "                                  \"School Type\":school_types,\n",
    "                                  \"Total Students\":student_count,\n",
    "                                  \"Total School Budget\":school_budget,\n",
    "                                  \"Per Student Budget\":school_per_student_budget,\n",
    "                                  \"Average Math Score\":school_avg_math_score,\n",
    "                                  \"Average Reading Score\":school_avg_reading_score,\n",
    "                                  \"% Passing Math\":school_pct_passing_math,\n",
    "                                  \"% Passing Reading\":school_pct_passing_reading,\n",
    "                                  \"Overall Passing Rate\":school_overall_passing}, index = [0])\n",
    "\n",
    "# Formatting\n",
    "per_school_summary[\"Total School Budget\"] = per_school_summary[\"Total School Budget\"].map(\"${:,.2f}\".format)\n",
    "per_school_summary[\"Per Student Budget\"] = per_school_summary[\"Per Student Budget\"].map(\"${:,.2f}\".format)\n",
    "\n",
    "# Display the DataFrame\n",
    "per_school_summary = per_school_summary.reset_index(drop=True)\n",
    "per_school_summary "
   ]
  },
  {
   "cell_type": "code",
   "execution_count": null,
   "id": "95d41044",
   "metadata": {},
   "outputs": [],
   "source": [
    "# Highest-Performing Schools (by % Overall Passing)"
   ]
  }
 ],
 "metadata": {
  "kernelspec": {
   "display_name": "Python 3 (ipykernel)",
   "language": "python",
   "name": "python3"
  },
  "language_info": {
   "codemirror_mode": {
    "name": "ipython",
    "version": 3
   },
   "file_extension": ".py",
   "mimetype": "text/x-python",
   "name": "python",
   "nbconvert_exporter": "python",
   "pygments_lexer": "ipython3",
   "version": "3.10.11"
  }
 },
 "nbformat": 4,
 "nbformat_minor": 5
}
